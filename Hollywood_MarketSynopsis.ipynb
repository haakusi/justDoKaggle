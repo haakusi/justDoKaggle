{
  "nbformat": 4,
  "nbformat_minor": 0,
  "metadata": {
    "colab": {
      "name": "Hollywood MarketSynopsis.ipynb",
      "provenance": [],
      "collapsed_sections": [],
      "authorship_tag": "ABX9TyMF4FAkS7HjkAW6Nx6k6h6d",
      "include_colab_link": true
    },
    "kernelspec": {
      "name": "python3",
      "display_name": "Python 3"
    },
    "language_info": {
      "name": "python"
    }
  },
  "cells": [
    {
      "cell_type": "markdown",
      "metadata": {
        "id": "view-in-github",
        "colab_type": "text"
      },
      "source": [
        "<a href=\"https://colab.research.google.com/github/haakusi/justDoKaggle/blob/main/Hollywood_MarketSynopsis.ipynb\" target=\"_parent\"><img src=\"https://colab.research.google.com/assets/colab-badge.svg\" alt=\"Open In Colab\"/></a>"
      ]
    },
    {
      "cell_type": "markdown",
      "source": [
        "## Hollywood MarketSynopsis-Data Visualization"
      ],
      "metadata": {
        "id": "QdH1QNq0dsDb"
      }
    },
    {
      "cell_type": "markdown",
      "source": [
        "## Import Dependencies"
      ],
      "metadata": {
        "id": "0vcmJZGreEZF"
      }
    },
    {
      "cell_type": "code",
      "execution_count": null,
      "metadata": {
        "id": "78cksaZ7drTu"
      },
      "outputs": [],
      "source": [
        "import numpy as np\n",
        "import pandas as pd\n",
        "import matplotlib.pyplot as plt\n",
        "import seaborn as sns"
      ]
    },
    {
      "cell_type": "markdown",
      "source": [
        "## Reading CSV File"
      ],
      "metadata": {
        "id": "fEhihJLneKqz"
      }
    },
    {
      "cell_type": "code",
      "source": [
        "# 본인 경로에 맞게 이동 필요\n",
        "from google.colab import drive\n",
        "drive.mount('/content/drive')\n",
        "%cd /content/drive/MyDrive/Colab_Notebooks/220120/"
      ],
      "metadata": {
        "id": "9qTRAjcgeCF9",
        "colab": {
          "base_uri": "https://localhost:8080/"
        },
        "outputId": "4357fb17-bbae-47f0-c1d0-8c701edb3135"
      },
      "execution_count": null,
      "outputs": [
        {
          "output_type": "stream",
          "name": "stdout",
          "text": [
            "Mounted at /content/drive\n",
            "/content/drive/MyDrive/Colab_Notebooks/220120\n"
          ]
        }
      ]
    },
    {
      "cell_type": "code",
      "source": [
        "AnnualTicketSales= pd.read_csv(\"/content/drive/MyDrive/Colab_Notebooks/220120/AnnualTicketSales.csv\");\n",
        "HighestGrossers = pd.read_csv(\"/content/drive/MyDrive/Colab_Notebooks/220120/HighestGrossers.csv\");\n",
        "PopularCreativeTypes = pd.read_csv(\"/content/drive/MyDrive/Colab_Notebooks/220120/PopularCreativeTypes.csv\");\n",
        "TopDistributors = pd.read_csv(\"/content/drive/MyDrive/Colab_Notebooks/220120/TopDistributors.csv\");\n",
        "TopGenres = pd.read_csv(\"/content/drive/MyDrive/Colab_Notebooks/220120/TopGenres.csv\");\n",
        "TopGrossingRatings = pd.read_csv(\"/content/drive/MyDrive/Colab_Notebooks/220120/TopGrossingRatings.csv\");\n",
        "TopGrossingSources = pd.read_csv(\"/content/drive/MyDrive/Colab_Notebooks/220120/TopGrossingSources.csv\");\n",
        "TopProductionMethods = pd.read_csv(\"/content/drive/MyDrive/Colab_Notebooks/220120/TopProductionMethods.csv\");\n",
        "WideReleasesCount = pd.read_csv(\"/content/drive/MyDrive/Colab_Notebooks/220120/WideReleasesCount.csv\");"
      ],
      "metadata": {
        "id": "SyXCNnUoeJHU"
      },
      "execution_count": null,
      "outputs": []
    },
    {
      "cell_type": "code",
      "source": [
        "AnnualTicketSales.head()"
      ],
      "metadata": {
        "id": "OJsL8QvzeJPa",
        "colab": {
          "base_uri": "https://localhost:8080/",
          "height": 206
        },
        "outputId": "ae970768-c8db-4bdb-a119-876b2c724e6f"
      },
      "execution_count": null,
      "outputs": [
        {
          "output_type": "execute_result",
          "data": {
            "text/html": [
              "\n",
              "  <div id=\"df-662fc047-5721-48dc-9429-c9426fa2a56f\">\n",
              "    <div class=\"colab-df-container\">\n",
              "      <div>\n",
              "<style scoped>\n",
              "    .dataframe tbody tr th:only-of-type {\n",
              "        vertical-align: middle;\n",
              "    }\n",
              "\n",
              "    .dataframe tbody tr th {\n",
              "        vertical-align: top;\n",
              "    }\n",
              "\n",
              "    .dataframe thead th {\n",
              "        text-align: right;\n",
              "    }\n",
              "</style>\n",
              "<table border=\"1\" class=\"dataframe\">\n",
              "  <thead>\n",
              "    <tr style=\"text-align: right;\">\n",
              "      <th></th>\n",
              "      <th>YEAR</th>\n",
              "      <th>TICKETS SOLD</th>\n",
              "      <th>TOTAL BOX OFFICE</th>\n",
              "      <th>TOTAL INFLATION ADJUSTED BOX OFFICE</th>\n",
              "      <th>AVERAGE TICKET PRICE</th>\n",
              "      <th>Unnamed: 5</th>\n",
              "    </tr>\n",
              "  </thead>\n",
              "  <tbody>\n",
              "    <tr>\n",
              "      <th>0</th>\n",
              "      <td>2021</td>\n",
              "      <td>42,37,74,881</td>\n",
              "      <td>$3,881,777,912</td>\n",
              "      <td>$3,881,777,912</td>\n",
              "      <td>$9.16</td>\n",
              "      <td>NaN</td>\n",
              "    </tr>\n",
              "    <tr>\n",
              "      <th>1</th>\n",
              "      <td>2020</td>\n",
              "      <td>22,36,38,958</td>\n",
              "      <td>$2,048,534,616</td>\n",
              "      <td>$2,048,534,616</td>\n",
              "      <td>$9.16</td>\n",
              "      <td>NaN</td>\n",
              "    </tr>\n",
              "    <tr>\n",
              "      <th>2</th>\n",
              "      <td>2019</td>\n",
              "      <td>1,22,85,41,629</td>\n",
              "      <td>$11,253,443,955</td>\n",
              "      <td>$11,253,444,050</td>\n",
              "      <td>$9.16</td>\n",
              "      <td>NaN</td>\n",
              "    </tr>\n",
              "    <tr>\n",
              "      <th>3</th>\n",
              "      <td>2018</td>\n",
              "      <td>1,31,15,36,128</td>\n",
              "      <td>$11,948,096,650</td>\n",
              "      <td>$12,013,670,952</td>\n",
              "      <td>$9.11</td>\n",
              "      <td>NaN</td>\n",
              "    </tr>\n",
              "    <tr>\n",
              "      <th>4</th>\n",
              "      <td>2017</td>\n",
              "      <td>1,22,56,39,761</td>\n",
              "      <td>$10,993,991,460</td>\n",
              "      <td>$11,226,860,216</td>\n",
              "      <td>$8.97</td>\n",
              "      <td>NaN</td>\n",
              "    </tr>\n",
              "  </tbody>\n",
              "</table>\n",
              "</div>\n",
              "      <button class=\"colab-df-convert\" onclick=\"convertToInteractive('df-662fc047-5721-48dc-9429-c9426fa2a56f')\"\n",
              "              title=\"Convert this dataframe to an interactive table.\"\n",
              "              style=\"display:none;\">\n",
              "        \n",
              "  <svg xmlns=\"http://www.w3.org/2000/svg\" height=\"24px\"viewBox=\"0 0 24 24\"\n",
              "       width=\"24px\">\n",
              "    <path d=\"M0 0h24v24H0V0z\" fill=\"none\"/>\n",
              "    <path d=\"M18.56 5.44l.94 2.06.94-2.06 2.06-.94-2.06-.94-.94-2.06-.94 2.06-2.06.94zm-11 1L8.5 8.5l.94-2.06 2.06-.94-2.06-.94L8.5 2.5l-.94 2.06-2.06.94zm10 10l.94 2.06.94-2.06 2.06-.94-2.06-.94-.94-2.06-.94 2.06-2.06.94z\"/><path d=\"M17.41 7.96l-1.37-1.37c-.4-.4-.92-.59-1.43-.59-.52 0-1.04.2-1.43.59L10.3 9.45l-7.72 7.72c-.78.78-.78 2.05 0 2.83L4 21.41c.39.39.9.59 1.41.59.51 0 1.02-.2 1.41-.59l7.78-7.78 2.81-2.81c.8-.78.8-2.07 0-2.86zM5.41 20L4 18.59l7.72-7.72 1.47 1.35L5.41 20z\"/>\n",
              "  </svg>\n",
              "      </button>\n",
              "      \n",
              "  <style>\n",
              "    .colab-df-container {\n",
              "      display:flex;\n",
              "      flex-wrap:wrap;\n",
              "      gap: 12px;\n",
              "    }\n",
              "\n",
              "    .colab-df-convert {\n",
              "      background-color: #E8F0FE;\n",
              "      border: none;\n",
              "      border-radius: 50%;\n",
              "      cursor: pointer;\n",
              "      display: none;\n",
              "      fill: #1967D2;\n",
              "      height: 32px;\n",
              "      padding: 0 0 0 0;\n",
              "      width: 32px;\n",
              "    }\n",
              "\n",
              "    .colab-df-convert:hover {\n",
              "      background-color: #E2EBFA;\n",
              "      box-shadow: 0px 1px 2px rgba(60, 64, 67, 0.3), 0px 1px 3px 1px rgba(60, 64, 67, 0.15);\n",
              "      fill: #174EA6;\n",
              "    }\n",
              "\n",
              "    [theme=dark] .colab-df-convert {\n",
              "      background-color: #3B4455;\n",
              "      fill: #D2E3FC;\n",
              "    }\n",
              "\n",
              "    [theme=dark] .colab-df-convert:hover {\n",
              "      background-color: #434B5C;\n",
              "      box-shadow: 0px 1px 3px 1px rgba(0, 0, 0, 0.15);\n",
              "      filter: drop-shadow(0px 1px 2px rgba(0, 0, 0, 0.3));\n",
              "      fill: #FFFFFF;\n",
              "    }\n",
              "  </style>\n",
              "\n",
              "      <script>\n",
              "        const buttonEl =\n",
              "          document.querySelector('#df-662fc047-5721-48dc-9429-c9426fa2a56f button.colab-df-convert');\n",
              "        buttonEl.style.display =\n",
              "          google.colab.kernel.accessAllowed ? 'block' : 'none';\n",
              "\n",
              "        async function convertToInteractive(key) {\n",
              "          const element = document.querySelector('#df-662fc047-5721-48dc-9429-c9426fa2a56f');\n",
              "          const dataTable =\n",
              "            await google.colab.kernel.invokeFunction('convertToInteractive',\n",
              "                                                     [key], {});\n",
              "          if (!dataTable) return;\n",
              "\n",
              "          const docLinkHtml = 'Like what you see? Visit the ' +\n",
              "            '<a target=\"_blank\" href=https://colab.research.google.com/notebooks/data_table.ipynb>data table notebook</a>'\n",
              "            + ' to learn more about interactive tables.';\n",
              "          element.innerHTML = '';\n",
              "          dataTable['output_type'] = 'display_data';\n",
              "          await google.colab.output.renderOutput(dataTable, element);\n",
              "          const docLink = document.createElement('div');\n",
              "          docLink.innerHTML = docLinkHtml;\n",
              "          element.appendChild(docLink);\n",
              "        }\n",
              "      </script>\n",
              "    </div>\n",
              "  </div>\n",
              "  "
            ],
            "text/plain": [
              "   YEAR    TICKETS SOLD  ... AVERAGE TICKET PRICE Unnamed: 5\n",
              "0  2021    42,37,74,881  ...                $9.16        NaN\n",
              "1  2020    22,36,38,958  ...                $9.16        NaN\n",
              "2  2019  1,22,85,41,629  ...                $9.16        NaN\n",
              "3  2018  1,31,15,36,128  ...                $9.11        NaN\n",
              "4  2017  1,22,56,39,761  ...                $8.97        NaN\n",
              "\n",
              "[5 rows x 6 columns]"
            ]
          },
          "metadata": {},
          "execution_count": 4
        }
      ]
    },
    {
      "cell_type": "code",
      "source": [
        "# preprocessing about , $, Drop no consistance column\n",
        "AnnualTicketSales['TICKETS SOLD'] = AnnualTicketSales['TICKETS SOLD'].str.replace(',', '')\n",
        "\n",
        "AnnualTicketSales['TOTAL BOX OFFICE'] = AnnualTicketSales['TOTAL BOX OFFICE'].str.replace(',', '')\n",
        "AnnualTicketSales['TOTAL BOX OFFICE'] = AnnualTicketSales['TOTAL BOX OFFICE'].str.replace('$', '')\n",
        "\n",
        "AnnualTicketSales['TOTAL INFLATION ADJUSTED BOX OFFICE'] = AnnualTicketSales['TOTAL INFLATION ADJUSTED BOX OFFICE'].str.replace(',', '')\n",
        "AnnualTicketSales['TOTAL INFLATION ADJUSTED BOX OFFICE'] = AnnualTicketSales['TOTAL INFLATION ADJUSTED BOX OFFICE'].str.replace('$', '')\n",
        "\n",
        "AnnualTicketSales['AVERAGE TICKET PRICE'] = AnnualTicketSales['AVERAGE TICKET PRICE'].str.replace('$', '')\n",
        "\n",
        "AnnualTicketSales.drop('Unnamed: 5', axis = 1, inplace = True)"
      ],
      "metadata": {
        "id": "sniWXaMueJR6"
      },
      "execution_count": null,
      "outputs": []
    },
    {
      "cell_type": "code",
      "source": [
        "AnnualTicketSales.head()"
      ],
      "metadata": {
        "id": "MTjXgDpWeJUs",
        "colab": {
          "base_uri": "https://localhost:8080/",
          "height": 206
        },
        "outputId": "0e532368-d145-498c-ba3f-0f359b301c51"
      },
      "execution_count": null,
      "outputs": [
        {
          "output_type": "execute_result",
          "data": {
            "text/html": [
              "\n",
              "  <div id=\"df-5d7f6379-0520-4b4b-a0cb-b554337ddf24\">\n",
              "    <div class=\"colab-df-container\">\n",
              "      <div>\n",
              "<style scoped>\n",
              "    .dataframe tbody tr th:only-of-type {\n",
              "        vertical-align: middle;\n",
              "    }\n",
              "\n",
              "    .dataframe tbody tr th {\n",
              "        vertical-align: top;\n",
              "    }\n",
              "\n",
              "    .dataframe thead th {\n",
              "        text-align: right;\n",
              "    }\n",
              "</style>\n",
              "<table border=\"1\" class=\"dataframe\">\n",
              "  <thead>\n",
              "    <tr style=\"text-align: right;\">\n",
              "      <th></th>\n",
              "      <th>YEAR</th>\n",
              "      <th>TICKETS SOLD</th>\n",
              "      <th>TOTAL BOX OFFICE</th>\n",
              "      <th>TOTAL INFLATION ADJUSTED BOX OFFICE</th>\n",
              "      <th>AVERAGE TICKET PRICE</th>\n",
              "    </tr>\n",
              "  </thead>\n",
              "  <tbody>\n",
              "    <tr>\n",
              "      <th>0</th>\n",
              "      <td>2021</td>\n",
              "      <td>423774881</td>\n",
              "      <td>3881777912</td>\n",
              "      <td>3881777912</td>\n",
              "      <td>9.16</td>\n",
              "    </tr>\n",
              "    <tr>\n",
              "      <th>1</th>\n",
              "      <td>2020</td>\n",
              "      <td>223638958</td>\n",
              "      <td>2048534616</td>\n",
              "      <td>2048534616</td>\n",
              "      <td>9.16</td>\n",
              "    </tr>\n",
              "    <tr>\n",
              "      <th>2</th>\n",
              "      <td>2019</td>\n",
              "      <td>1228541629</td>\n",
              "      <td>11253443955</td>\n",
              "      <td>11253444050</td>\n",
              "      <td>9.16</td>\n",
              "    </tr>\n",
              "    <tr>\n",
              "      <th>3</th>\n",
              "      <td>2018</td>\n",
              "      <td>1311536128</td>\n",
              "      <td>11948096650</td>\n",
              "      <td>12013670952</td>\n",
              "      <td>9.11</td>\n",
              "    </tr>\n",
              "    <tr>\n",
              "      <th>4</th>\n",
              "      <td>2017</td>\n",
              "      <td>1225639761</td>\n",
              "      <td>10993991460</td>\n",
              "      <td>11226860216</td>\n",
              "      <td>8.97</td>\n",
              "    </tr>\n",
              "  </tbody>\n",
              "</table>\n",
              "</div>\n",
              "      <button class=\"colab-df-convert\" onclick=\"convertToInteractive('df-5d7f6379-0520-4b4b-a0cb-b554337ddf24')\"\n",
              "              title=\"Convert this dataframe to an interactive table.\"\n",
              "              style=\"display:none;\">\n",
              "        \n",
              "  <svg xmlns=\"http://www.w3.org/2000/svg\" height=\"24px\"viewBox=\"0 0 24 24\"\n",
              "       width=\"24px\">\n",
              "    <path d=\"M0 0h24v24H0V0z\" fill=\"none\"/>\n",
              "    <path d=\"M18.56 5.44l.94 2.06.94-2.06 2.06-.94-2.06-.94-.94-2.06-.94 2.06-2.06.94zm-11 1L8.5 8.5l.94-2.06 2.06-.94-2.06-.94L8.5 2.5l-.94 2.06-2.06.94zm10 10l.94 2.06.94-2.06 2.06-.94-2.06-.94-.94-2.06-.94 2.06-2.06.94z\"/><path d=\"M17.41 7.96l-1.37-1.37c-.4-.4-.92-.59-1.43-.59-.52 0-1.04.2-1.43.59L10.3 9.45l-7.72 7.72c-.78.78-.78 2.05 0 2.83L4 21.41c.39.39.9.59 1.41.59.51 0 1.02-.2 1.41-.59l7.78-7.78 2.81-2.81c.8-.78.8-2.07 0-2.86zM5.41 20L4 18.59l7.72-7.72 1.47 1.35L5.41 20z\"/>\n",
              "  </svg>\n",
              "      </button>\n",
              "      \n",
              "  <style>\n",
              "    .colab-df-container {\n",
              "      display:flex;\n",
              "      flex-wrap:wrap;\n",
              "      gap: 12px;\n",
              "    }\n",
              "\n",
              "    .colab-df-convert {\n",
              "      background-color: #E8F0FE;\n",
              "      border: none;\n",
              "      border-radius: 50%;\n",
              "      cursor: pointer;\n",
              "      display: none;\n",
              "      fill: #1967D2;\n",
              "      height: 32px;\n",
              "      padding: 0 0 0 0;\n",
              "      width: 32px;\n",
              "    }\n",
              "\n",
              "    .colab-df-convert:hover {\n",
              "      background-color: #E2EBFA;\n",
              "      box-shadow: 0px 1px 2px rgba(60, 64, 67, 0.3), 0px 1px 3px 1px rgba(60, 64, 67, 0.15);\n",
              "      fill: #174EA6;\n",
              "    }\n",
              "\n",
              "    [theme=dark] .colab-df-convert {\n",
              "      background-color: #3B4455;\n",
              "      fill: #D2E3FC;\n",
              "    }\n",
              "\n",
              "    [theme=dark] .colab-df-convert:hover {\n",
              "      background-color: #434B5C;\n",
              "      box-shadow: 0px 1px 3px 1px rgba(0, 0, 0, 0.15);\n",
              "      filter: drop-shadow(0px 1px 2px rgba(0, 0, 0, 0.3));\n",
              "      fill: #FFFFFF;\n",
              "    }\n",
              "  </style>\n",
              "\n",
              "      <script>\n",
              "        const buttonEl =\n",
              "          document.querySelector('#df-5d7f6379-0520-4b4b-a0cb-b554337ddf24 button.colab-df-convert');\n",
              "        buttonEl.style.display =\n",
              "          google.colab.kernel.accessAllowed ? 'block' : 'none';\n",
              "\n",
              "        async function convertToInteractive(key) {\n",
              "          const element = document.querySelector('#df-5d7f6379-0520-4b4b-a0cb-b554337ddf24');\n",
              "          const dataTable =\n",
              "            await google.colab.kernel.invokeFunction('convertToInteractive',\n",
              "                                                     [key], {});\n",
              "          if (!dataTable) return;\n",
              "\n",
              "          const docLinkHtml = 'Like what you see? Visit the ' +\n",
              "            '<a target=\"_blank\" href=https://colab.research.google.com/notebooks/data_table.ipynb>data table notebook</a>'\n",
              "            + ' to learn more about interactive tables.';\n",
              "          element.innerHTML = '';\n",
              "          dataTable['output_type'] = 'display_data';\n",
              "          await google.colab.output.renderOutput(dataTable, element);\n",
              "          const docLink = document.createElement('div');\n",
              "          docLink.innerHTML = docLinkHtml;\n",
              "          element.appendChild(docLink);\n",
              "        }\n",
              "      </script>\n",
              "    </div>\n",
              "  </div>\n",
              "  "
            ],
            "text/plain": [
              "   YEAR TICKETS SOLD  ... TOTAL INFLATION ADJUSTED BOX OFFICE AVERAGE TICKET PRICE\n",
              "0  2021    423774881  ...                          3881777912                 9.16\n",
              "1  2020    223638958  ...                          2048534616                 9.16\n",
              "2  2019   1228541629  ...                         11253444050                 9.16\n",
              "3  2018   1311536128  ...                         12013670952                 9.11\n",
              "4  2017   1225639761  ...                         11226860216                 8.97\n",
              "\n",
              "[5 rows x 5 columns]"
            ]
          },
          "metadata": {},
          "execution_count": 6
        }
      ]
    },
    {
      "cell_type": "code",
      "source": [
        "# why? astype str -> int. no onetime converting int\n",
        "AnnualTicketSales[\"TOTAL BOX OFFICE\"] = AnnualTicketSales[\"TOTAL BOX OFFICE\"].astype(str).astype(int)\n",
        "AnnualTicketSales[\"TICKETS SOLD\"] = AnnualTicketSales[\"TICKETS SOLD\"].astype(int)"
      ],
      "metadata": {
        "id": "AyX53mTreJXS"
      },
      "execution_count": null,
      "outputs": []
    },
    {
      "cell_type": "code",
      "source": [
        "AnnualTicketSales.info()"
      ],
      "metadata": {
        "id": "gA4he_t0iXtl",
        "colab": {
          "base_uri": "https://localhost:8080/"
        },
        "outputId": "88e1c2e4-6f4d-4bd1-8ea2-9353d39f075c"
      },
      "execution_count": null,
      "outputs": [
        {
          "output_type": "stream",
          "name": "stdout",
          "text": [
            "<class 'pandas.core.frame.DataFrame'>\n",
            "RangeIndex: 27 entries, 0 to 26\n",
            "Data columns (total 5 columns):\n",
            " #   Column                               Non-Null Count  Dtype \n",
            "---  ------                               --------------  ----- \n",
            " 0   YEAR                                 27 non-null     int64 \n",
            " 1   TICKETS SOLD                         27 non-null     int64 \n",
            " 2   TOTAL BOX OFFICE                     27 non-null     int64 \n",
            " 3   TOTAL INFLATION ADJUSTED BOX OFFICE  27 non-null     object\n",
            " 4   AVERAGE TICKET PRICE                 27 non-null     object\n",
            "dtypes: int64(3), object(2)\n",
            "memory usage: 1.2+ KB\n"
          ]
        }
      ]
    },
    {
      "cell_type": "code",
      "source": [
        "AnnualTicketSales.isnull().sum()"
      ],
      "metadata": {
        "id": "L600SqLOiXwT",
        "colab": {
          "base_uri": "https://localhost:8080/"
        },
        "outputId": "4823b726-ec87-486c-f5f0-350cf5e7ebc1"
      },
      "execution_count": null,
      "outputs": [
        {
          "output_type": "execute_result",
          "data": {
            "text/plain": [
              "YEAR                                   0\n",
              "TICKETS SOLD                           0\n",
              "TOTAL BOX OFFICE                       0\n",
              "TOTAL INFLATION ADJUSTED BOX OFFICE    0\n",
              "AVERAGE TICKET PRICE                   0\n",
              "dtype: int64"
            ]
          },
          "metadata": {},
          "execution_count": 9
        }
      ]
    },
    {
      "cell_type": "code",
      "source": [
        "ax = sns.catplot(y=\"TICKETS SOLD\", x=\"YEAR\", kind=\"bar\", data=AnnualTicketSales, height=6, aspect=3)\n",
        "plt.ylabel(\"TICKETS SOLD in billion\")\n",
        "plt.grid(True)"
      ],
      "metadata": {
        "id": "Ut58WPyliXzG",
        "colab": {
          "base_uri": "https://localhost:8080/",
          "height": 441
        },
        "outputId": "411c2e13-28fd-4e4d-ff2e-667b7c586e7c"
      },
      "execution_count": null,
      "outputs": [
        {
          "output_type": "display_data",
          "data": {
            "image/png": "[encoded data removed]",
            "text/plain": [
              "<Figure size 1296x432 with 1 Axes>"
            ]
          },
          "metadata": {
            "needs_background": "light"
          }
        }
      ]
    },
    {
      "cell_type": "code",
      "source": [
        "AnnualTicketSales.plot.bar(x='YEAR', y='TOTAL BOX OFFICE')\n",
        "plt.ylabel(\"TICKETS SOLD in billion\")\n",
        "plt.grid(True)"
      ],
      "metadata": {
        "id": "dRKVinl-i3FC",
        "colab": {
          "base_uri": "https://localhost:8080/",
          "height": 306
        },
        "outputId": "b5828507-4223-438b-9b63-33ecce575c50"
      },
      "execution_count": null,
      "outputs": [
        {
          "output_type": "display_data",
          "data": {
            "image/png": "[encoded data removed]",
            "text/plain": [
              "<Figure size 432x288 with 1 Axes>"
            ]
          },
          "metadata": {
            "needs_background": "light"
          }
        }
      ]
    },
    {
      "cell_type": "markdown",
      "source": [
        "## Highest Grossers"
      ],
      "metadata": {
        "id": "ZIF6zZ7t_7ni"
      }
    },
    {
      "cell_type": "code",
      "source": [
        "HighestGrossers.head()"
      ],
      "metadata": {
        "id": "3VE4x5uGkAqZ",
        "colab": {
          "base_uri": "https://localhost:8080/",
          "height": 206
        },
        "outputId": "7b119f9d-2a7a-4956-9e8d-532aa24411ea"
      },
      "execution_count": null,
      "outputs": [
        {
          "output_type": "execute_result",
          "data": {
            "text/html": [
              "\n",
              "  <div id=\"df-ed53241d-db4a-4cbd-9ab9-553e873c47f2\">\n",
              "    <div class=\"colab-df-container\">\n",
              "      <div>\n",
              "<style scoped>\n",
              "    .dataframe tbody tr th:only-of-type {\n",
              "        vertical-align: middle;\n",
              "    }\n",
              "\n",
              "    .dataframe tbody tr th {\n",
              "        vertical-align: top;\n",
              "    }\n",
              "\n",
              "    .dataframe thead th {\n",
              "        text-align: right;\n",
              "    }\n",
              "</style>\n",
              "<table border=\"1\" class=\"dataframe\">\n",
              "  <thead>\n",
              "    <tr style=\"text-align: right;\">\n",
              "      <th></th>\n",
              "      <th>YEAR</th>\n",
              "      <th>MOVIE</th>\n",
              "      <th>GENRE</th>\n",
              "      <th>MPAA RATING</th>\n",
              "      <th>DISTRIBUTOR</th>\n",
              "      <th>TOTAL FOR YEAR</th>\n",
              "      <th>TOTAL IN 2019 DOLLARS</th>\n",
              "      <th>TICKETS SOLD</th>\n",
              "    </tr>\n",
              "  </thead>\n",
              "  <tbody>\n",
              "    <tr>\n",
              "      <th>0</th>\n",
              "      <td>1995</td>\n",
              "      <td>Batman Forever</td>\n",
              "      <td>Drama</td>\n",
              "      <td>PG-13</td>\n",
              "      <td>Warner Bros.</td>\n",
              "      <td>$184,031,112</td>\n",
              "      <td>$387,522,978</td>\n",
              "      <td>4,23,06,002</td>\n",
              "    </tr>\n",
              "    <tr>\n",
              "      <th>1</th>\n",
              "      <td>1996</td>\n",
              "      <td>Independence Day</td>\n",
              "      <td>Adventure</td>\n",
              "      <td>PG-13</td>\n",
              "      <td>20th Century Fox</td>\n",
              "      <td>$306,169,255</td>\n",
              "      <td>$634,504,608</td>\n",
              "      <td>6,92,69,062</td>\n",
              "    </tr>\n",
              "    <tr>\n",
              "      <th>2</th>\n",
              "      <td>1997</td>\n",
              "      <td>Men in Black</td>\n",
              "      <td>Adventure</td>\n",
              "      <td>PG-13</td>\n",
              "      <td>Sony Pictures</td>\n",
              "      <td>$250,650,052</td>\n",
              "      <td>$500,207,943</td>\n",
              "      <td>5,46,07,854</td>\n",
              "    </tr>\n",
              "    <tr>\n",
              "      <th>3</th>\n",
              "      <td>1998</td>\n",
              "      <td>Titanic</td>\n",
              "      <td>Adventure</td>\n",
              "      <td>PG-13</td>\n",
              "      <td>Paramount Pictures</td>\n",
              "      <td>$443,319,081</td>\n",
              "      <td>$865,842,808</td>\n",
              "      <td>9,45,24,324</td>\n",
              "    </tr>\n",
              "    <tr>\n",
              "      <th>4</th>\n",
              "      <td>1999</td>\n",
              "      <td>Star Wars Ep. I: The Phantom Menace</td>\n",
              "      <td>Adventure</td>\n",
              "      <td>PG</td>\n",
              "      <td>20th Century Fox</td>\n",
              "      <td>$430,443,350</td>\n",
              "      <td>$776,153,749</td>\n",
              "      <td>8,47,32,942</td>\n",
              "    </tr>\n",
              "  </tbody>\n",
              "</table>\n",
              "</div>\n",
              "      <button class=\"colab-df-convert\" onclick=\"convertToInteractive('df-ed53241d-db4a-4cbd-9ab9-553e873c47f2')\"\n",
              "              title=\"Convert this dataframe to an interactive table.\"\n",
              "              style=\"display:none;\">\n",
              "        \n",
              "  <svg xmlns=\"http://www.w3.org/2000/svg\" height=\"24px\"viewBox=\"0 0 24 24\"\n",
              "       width=\"24px\">\n",
              "    <path d=\"M0 0h24v24H0V0z\" fill=\"none\"/>\n",
              "    <path d=\"M18.56 5.44l.94 2.06.94-2.06 2.06-.94-2.06-.94-.94-2.06-.94 2.06-2.06.94zm-11 1L8.5 8.5l.94-2.06 2.06-.94-2.06-.94L8.5 2.5l-.94 2.06-2.06.94zm10 10l.94 2.06.94-2.06 2.06-.94-2.06-.94-.94-2.06-.94 2.06-2.06.94z\"/><path d=\"M17.41 7.96l-1.37-1.37c-.4-.4-.92-.59-1.43-.59-.52 0-1.04.2-1.43.59L10.3 9.45l-7.72 7.72c-.78.78-.78 2.05 0 2.83L4 21.41c.39.39.9.59 1.41.59.51 0 1.02-.2 1.41-.59l7.78-7.78 2.81-2.81c.8-.78.8-2.07 0-2.86zM5.41 20L4 18.59l7.72-7.72 1.47 1.35L5.41 20z\"/>\n",
              "  </svg>\n",
              "      </button>\n",
              "      \n",
              "  <style>\n",
              "    .colab-df-container {\n",
              "      display:flex;\n",
              "      flex-wrap:wrap;\n",
              "      gap: 12px;\n",
              "    }\n",
              "\n",
              "    .colab-df-convert {\n",
              "      background-color: #E8F0FE;\n",
              "      border: none;\n",
              "      border-radius: 50%;\n",
              "      cursor: pointer;\n",
              "      display: none;\n",
              "      fill: #1967D2;\n",
              "      height: 32px;\n",
              "      padding: 0 0 0 0;\n",
              "      width: 32px;\n",
              "    }\n",
              "\n",
              "    .colab-df-convert:hover {\n",
              "      background-color: #E2EBFA;\n",
              "      box-shadow: 0px 1px 2px rgba(60, 64, 67, 0.3), 0px 1px 3px 1px rgba(60, 64, 67, 0.15);\n",
              "      fill: #174EA6;\n",
              "    }\n",
              "\n",
              "    [theme=dark] .colab-df-convert {\n",
              "      background-color: #3B4455;\n",
              "      fill: #D2E3FC;\n",
              "    }\n",
              "\n",
              "    [theme=dark] .colab-df-convert:hover {\n",
              "      background-color: #434B5C;\n",
              "      box-shadow: 0px 1px 3px 1px rgba(0, 0, 0, 0.15);\n",
              "      filter: drop-shadow(0px 1px 2px rgba(0, 0, 0, 0.3));\n",
              "      fill: #FFFFFF;\n",
              "    }\n",
              "  </style>\n",
              "\n",
              "      <script>\n",
              "        const buttonEl =\n",
              "          document.querySelector('#df-ed53241d-db4a-4cbd-9ab9-553e873c47f2 button.colab-df-convert');\n",
              "        buttonEl.style.display =\n",
              "          google.colab.kernel.accessAllowed ? 'block' : 'none';\n",
              "\n",
              "        async function convertToInteractive(key) {\n",
              "          const element = document.querySelector('#df-ed53241d-db4a-4cbd-9ab9-553e873c47f2');\n",
              "          const dataTable =\n",
              "            await google.colab.kernel.invokeFunction('convertToInteractive',\n",
              "                                                     [key], {});\n",
              "          if (!dataTable) return;\n",
              "\n",
              "          const docLinkHtml = 'Like what you see? Visit the ' +\n",
              "            '<a target=\"_blank\" href=https://colab.research.google.com/notebooks/data_table.ipynb>data table notebook</a>'\n",
              "            + ' to learn more about interactive tables.';\n",
              "          element.innerHTML = '';\n",
              "          dataTable['output_type'] = 'display_data';\n",
              "          await google.colab.output.renderOutput(dataTable, element);\n",
              "          const docLink = document.createElement('div');\n",
              "          docLink.innerHTML = docLinkHtml;\n",
              "          element.appendChild(docLink);\n",
              "        }\n",
              "      </script>\n",
              "    </div>\n",
              "  </div>\n",
              "  "
            ],
            "text/plain": [
              "   YEAR                                MOVIE  ... TOTAL IN 2019 DOLLARS TICKETS SOLD\n",
              "0  1995                       Batman Forever  ...          $387,522,978  4,23,06,002\n",
              "1  1996                     Independence Day  ...          $634,504,608  6,92,69,062\n",
              "2  1997                         Men in Black  ...          $500,207,943  5,46,07,854\n",
              "3  1998                              Titanic  ...          $865,842,808  9,45,24,324\n",
              "4  1999  Star Wars Ep. I: The Phantom Menace  ...          $776,153,749  8,47,32,942\n",
              "\n",
              "[5 rows x 8 columns]"
            ]
          },
          "metadata": {},
          "execution_count": 12
        }
      ]
    },
    {
      "cell_type": "code",
      "source": [
        "# preprocessing about , $\n",
        "HighestGrossers['TOTAL FOR YEAR'] = HighestGrossers['TOTAL FOR YEAR'].str.replace(',', '')\n",
        "HighestGrossers['TOTAL FOR YEAR'] = HighestGrossers['TOTAL FOR YEAR'].str.replace('$', '')\n",
        "\n",
        "HighestGrossers['TOTAL IN 2019 DOLLARS'] = HighestGrossers['TOTAL IN 2019 DOLLARS'].str.replace(',', '')\n",
        "HighestGrossers['TOTAL IN 2019 DOLLARS'] = HighestGrossers['TOTAL IN 2019 DOLLARS'].str.replace('$', '')\n",
        "\n",
        "HighestGrossers['TICKETS SOLD'] = HighestGrossers['TICKETS SOLD'].str.replace(',', '')\n",
        "\n",
        "HighestGrossers['TOTAL FOR YEAR'] = HighestGrossers['TOTAL FOR YEAR'].astype(str).astype(int)"
      ],
      "metadata": {
        "id": "5OERwhd3kAtB"
      },
      "execution_count": null,
      "outputs": []
    },
    {
      "cell_type": "code",
      "source": [
        "df1 = pd.DataFrame(HighestGrossers, columns = ['MOVIE', 'TOTAL FOR YEAR'])\n",
        "df1.sort_values(by=['TOTAL FOR YEAR'], ascending = False, inplace=True)\n",
        "print(df1)"
      ],
      "metadata": {
        "id": "GTt12njckAvx",
        "colab": {
          "base_uri": "https://localhost:8080/"
        },
        "outputId": "fb605fbc-d971-45cc-aeff-0de8487c10c2"
      },
      "execution_count": null,
      "outputs": [
        {
          "output_type": "stream",
          "name": "stdout",
          "text": [
            "                                            MOVIE  TOTAL FOR YEAR\n",
            "24                              Avengers: Endgame       858373000\n",
            "20           Star Wars Ep. VII: The Force Awakens       742208942\n",
            "23                                  Black Panther       700059566\n",
            "17                                   The Avengers       623357910\n",
            "13                                The Dark Knight       531001578\n",
            "22              Star Wars Ep. VIII: The Last Jedi       517218368\n",
            "21                                   Finding Dory       486295561\n",
            "3                                         Titanic       443319081\n",
            "9                                         Shrek 2       441226247\n",
            "4             Star Wars Ep. I: The Phantom Menace       430443350\n",
            "11     Pirates of the Caribbean: Dead Man’s Chest       423315812\n",
            "15                                    Toy Story 3       415004880\n",
            "18                                     Iron Man 3       408992272\n",
            "7                                      Spider-Man       403706375\n",
            "14            Transformers: Revenge of the Fallen       402111870\n",
            "16  Harry Potter and the Deathly Hallows: Part II       381011219\n",
            "10         Star Wars Ep. III: Revenge of the Sith       380270577\n",
            "8                                    Finding Nemo       339714367\n",
            "12                                   Spider-Man 3       336530303\n",
            "19                        Guardians of the Galaxy       333055258\n",
            "1                                Independence Day       306169255\n",
            "6           Harry Potter and the Sorcerer’s Stone       300404434\n",
            "5                  How the Grinch Stole Christmas       253367455\n",
            "2                                    Men in Black       250650052\n",
            "26      Shang-Chi and the Legend of the Ten Rings       224226704\n",
            "25                              Bad Boys For Life       204417855\n",
            "0                                  Batman Forever       184031112\n"
          ]
        }
      ]
    },
    {
      "cell_type": "markdown",
      "source": [
        "## Top 10 Movies of all Time by Total earnings."
      ],
      "metadata": {
        "id": "i7ytBcpaP4i-"
      }
    },
    {
      "cell_type": "code",
      "source": [
        "plt.pie(df1['TOTAL FOR YEAR'][0:10], labels = df1['MOVIE'][0:10], autopct='%1.1f%%', explode=(0.1,0.05,0.05,0.05,0.05,0.05,0.05,0.05,0.05,0.05), radius=3, shadow=True)\n",
        "plt.show()"
      ],
      "metadata": {
        "id": "81BPT7rUkAyY",
        "colab": {
          "base_uri": "https://localhost:8080/",
          "height": 614
        },
        "outputId": "f02fa941-1ba1-4436-f127-a4dcb59ed68f"
      },
      "execution_count": null,
      "outputs": [
        {
          "output_type": "display_data",
          "data": {
            "image/png": "[encoded data removed]",
            "text/plain": [
              "<Figure size 432x288 with 1 Axes>"
            ]
          },
          "metadata": {}
        }
      ]
    },
    {
      "cell_type": "markdown",
      "source": [
        "## TopGenres"
      ],
      "metadata": {
        "id": "OJgC0_TJZv2n"
      }
    },
    {
      "cell_type": "code",
      "source": [
        "TopGenres"
      ],
      "metadata": {
        "id": "AgVDGsnJkA1C",
        "colab": {
          "base_uri": "https://localhost:8080/",
          "height": 363
        },
        "outputId": "a7fb0b17-81dd-44d8-f442-512b32066662"
      },
      "execution_count": null,
      "outputs": [
        {
          "output_type": "execute_result",
          "data": {
            "text/html": [
              "\n",
              "  <div id=\"df-3174e958-1cd7-4ea5-b288-ecb71d9c8565\">\n",
              "    <div class=\"colab-df-container\">\n",
              "      <div>\n",
              "<style scoped>\n",
              "    .dataframe tbody tr th:only-of-type {\n",
              "        vertical-align: middle;\n",
              "    }\n",
              "\n",
              "    .dataframe tbody tr th {\n",
              "        vertical-align: top;\n",
              "    }\n",
              "\n",
              "    .dataframe thead th {\n",
              "        text-align: right;\n",
              "    }\n",
              "</style>\n",
              "<table border=\"1\" class=\"dataframe\">\n",
              "  <thead>\n",
              "    <tr style=\"text-align: right;\">\n",
              "      <th></th>\n",
              "      <th>RANK</th>\n",
              "      <th>GENRES</th>\n",
              "      <th>MOVIES</th>\n",
              "      <th>TOTAL GROSS</th>\n",
              "      <th>AVERAGE GROSS</th>\n",
              "      <th>MARKET SHARE</th>\n",
              "    </tr>\n",
              "  </thead>\n",
              "  <tbody>\n",
              "    <tr>\n",
              "      <th>0</th>\n",
              "      <td>1</td>\n",
              "      <td>Adventure</td>\n",
              "      <td>1,102</td>\n",
              "      <td>$64,529,536,530</td>\n",
              "      <td>$58,556,748</td>\n",
              "      <td>27.14%</td>\n",
              "    </tr>\n",
              "    <tr>\n",
              "      <th>1</th>\n",
              "      <td>2</td>\n",
              "      <td>Action</td>\n",
              "      <td>1,098</td>\n",
              "      <td>$49,339,974,493</td>\n",
              "      <td>$44,936,224</td>\n",
              "      <td>20.75%</td>\n",
              "    </tr>\n",
              "    <tr>\n",
              "      <th>2</th>\n",
              "      <td>3</td>\n",
              "      <td>Drama</td>\n",
              "      <td>5,479</td>\n",
              "      <td>$35,586,177,269</td>\n",
              "      <td>$6,495,013</td>\n",
              "      <td>14.97%</td>\n",
              "    </tr>\n",
              "    <tr>\n",
              "      <th>3</th>\n",
              "      <td>4</td>\n",
              "      <td>Comedy</td>\n",
              "      <td>2,418</td>\n",
              "      <td>$33,687,992,318</td>\n",
              "      <td>$13,932,172</td>\n",
              "      <td>14.17%</td>\n",
              "    </tr>\n",
              "    <tr>\n",
              "      <th>4</th>\n",
              "      <td>5</td>\n",
              "      <td>Thriller/Suspense</td>\n",
              "      <td>1,186</td>\n",
              "      <td>$19,810,201,102</td>\n",
              "      <td>$16,703,374</td>\n",
              "      <td>8.33%</td>\n",
              "    </tr>\n",
              "    <tr>\n",
              "      <th>5</th>\n",
              "      <td>6</td>\n",
              "      <td>Horror</td>\n",
              "      <td>716</td>\n",
              "      <td>$13,430,378,699</td>\n",
              "      <td>$18,757,512</td>\n",
              "      <td>5.65%</td>\n",
              "    </tr>\n",
              "    <tr>\n",
              "      <th>6</th>\n",
              "      <td>7</td>\n",
              "      <td>Romantic Comedy</td>\n",
              "      <td>630</td>\n",
              "      <td>$10,480,124,374</td>\n",
              "      <td>$16,635,118</td>\n",
              "      <td>4.41%</td>\n",
              "    </tr>\n",
              "    <tr>\n",
              "      <th>7</th>\n",
              "      <td>8</td>\n",
              "      <td>Musical</td>\n",
              "      <td>201</td>\n",
              "      <td>$4,293,988,317</td>\n",
              "      <td>$21,363,126</td>\n",
              "      <td>1.81%</td>\n",
              "    </tr>\n",
              "    <tr>\n",
              "      <th>8</th>\n",
              "      <td>9</td>\n",
              "      <td>Documentary</td>\n",
              "      <td>2,415</td>\n",
              "      <td>$2,519,513,142</td>\n",
              "      <td>$1,043,277</td>\n",
              "      <td>1.06%</td>\n",
              "    </tr>\n",
              "    <tr>\n",
              "      <th>9</th>\n",
              "      <td>10</td>\n",
              "      <td>Black Comedy</td>\n",
              "      <td>213</td>\n",
              "      <td>$2,185,433,323</td>\n",
              "      <td>$10,260,250</td>\n",
              "      <td>0.92%</td>\n",
              "    </tr>\n",
              "  </tbody>\n",
              "</table>\n",
              "</div>\n",
              "      <button class=\"colab-df-convert\" onclick=\"convertToInteractive('df-3174e958-1cd7-4ea5-b288-ecb71d9c8565')\"\n",
              "              title=\"Convert this dataframe to an interactive table.\"\n",
              "              style=\"display:none;\">\n",
              "        \n",
              "  <svg xmlns=\"http://www.w3.org/2000/svg\" height=\"24px\"viewBox=\"0 0 24 24\"\n",
              "       width=\"24px\">\n",
              "    <path d=\"M0 0h24v24H0V0z\" fill=\"none\"/>\n",
              "    <path d=\"M18.56 5.44l.94 2.06.94-2.06 2.06-.94-2.06-.94-.94-2.06-.94 2.06-2.06.94zm-11 1L8.5 8.5l.94-2.06 2.06-.94-2.06-.94L8.5 2.5l-.94 2.06-2.06.94zm10 10l.94 2.06.94-2.06 2.06-.94-2.06-.94-.94-2.06-.94 2.06-2.06.94z\"/><path d=\"M17.41 7.96l-1.37-1.37c-.4-.4-.92-.59-1.43-.59-.52 0-1.04.2-1.43.59L10.3 9.45l-7.72 7.72c-.78.78-.78 2.05 0 2.83L4 21.41c.39.39.9.59 1.41.59.51 0 1.02-.2 1.41-.59l7.78-7.78 2.81-2.81c.8-.78.8-2.07 0-2.86zM5.41 20L4 18.59l7.72-7.72 1.47 1.35L5.41 20z\"/>\n",
              "  </svg>\n",
              "      </button>\n",
              "      \n",
              "  <style>\n",
              "    .colab-df-container {\n",
              "      display:flex;\n",
              "      flex-wrap:wrap;\n",
              "      gap: 12px;\n",
              "    }\n",
              "\n",
              "    .colab-df-convert {\n",
              "      background-color: #E8F0FE;\n",
              "      border: none;\n",
              "      border-radius: 50%;\n",
              "      cursor: pointer;\n",
              "      display: none;\n",
              "      fill: #1967D2;\n",
              "      height: 32px;\n",
              "      padding: 0 0 0 0;\n",
              "      width: 32px;\n",
              "    }\n",
              "\n",
              "    .colab-df-convert:hover {\n",
              "      background-color: #E2EBFA;\n",
              "      box-shadow: 0px 1px 2px rgba(60, 64, 67, 0.3), 0px 1px 3px 1px rgba(60, 64, 67, 0.15);\n",
              "      fill: #174EA6;\n",
              "    }\n",
              "\n",
              "    [theme=dark] .colab-df-convert {\n",
              "      background-color: #3B4455;\n",
              "      fill: #D2E3FC;\n",
              "    }\n",
              "\n",
              "    [theme=dark] .colab-df-convert:hover {\n",
              "      background-color: #434B5C;\n",
              "      box-shadow: 0px 1px 3px 1px rgba(0, 0, 0, 0.15);\n",
              "      filter: drop-shadow(0px 1px 2px rgba(0, 0, 0, 0.3));\n",
              "      fill: #FFFFFF;\n",
              "    }\n",
              "  </style>\n",
              "\n",
              "      <script>\n",
              "        const buttonEl =\n",
              "          document.querySelector('#df-3174e958-1cd7-4ea5-b288-ecb71d9c8565 button.colab-df-convert');\n",
              "        buttonEl.style.display =\n",
              "          google.colab.kernel.accessAllowed ? 'block' : 'none';\n",
              "\n",
              "        async function convertToInteractive(key) {\n",
              "          const element = document.querySelector('#df-3174e958-1cd7-4ea5-b288-ecb71d9c8565');\n",
              "          const dataTable =\n",
              "            await google.colab.kernel.invokeFunction('convertToInteractive',\n",
              "                                                     [key], {});\n",
              "          if (!dataTable) return;\n",
              "\n",
              "          const docLinkHtml = 'Like what you see? Visit the ' +\n",
              "            '<a target=\"_blank\" href=https://colab.research.google.com/notebooks/data_table.ipynb>data table notebook</a>'\n",
              "            + ' to learn more about interactive tables.';\n",
              "          element.innerHTML = '';\n",
              "          dataTable['output_type'] = 'display_data';\n",
              "          await google.colab.output.renderOutput(dataTable, element);\n",
              "          const docLink = document.createElement('div');\n",
              "          docLink.innerHTML = docLinkHtml;\n",
              "          element.appendChild(docLink);\n",
              "        }\n",
              "      </script>\n",
              "    </div>\n",
              "  </div>\n",
              "  "
            ],
            "text/plain": [
              "   RANK             GENRES MOVIES      TOTAL GROSS AVERAGE GROSS MARKET SHARE\n",
              "0     1          Adventure  1,102  $64,529,536,530   $58,556,748       27.14%\n",
              "1     2             Action  1,098  $49,339,974,493   $44,936,224       20.75%\n",
              "2     3              Drama  5,479  $35,586,177,269    $6,495,013       14.97%\n",
              "3     4             Comedy  2,418  $33,687,992,318   $13,932,172       14.17%\n",
              "4     5  Thriller/Suspense  1,186  $19,810,201,102   $16,703,374        8.33%\n",
              "5     6             Horror    716  $13,430,378,699   $18,757,512        5.65%\n",
              "6     7    Romantic Comedy    630  $10,480,124,374   $16,635,118        4.41%\n",
              "7     8            Musical    201   $4,293,988,317   $21,363,126        1.81%\n",
              "8     9        Documentary  2,415   $2,519,513,142    $1,043,277        1.06%\n",
              "9    10       Black Comedy    213   $2,185,433,323   $10,260,250        0.92%"
            ]
          },
          "metadata": {},
          "execution_count": 16
        }
      ]
    },
    {
      "cell_type": "code",
      "source": [
        "TopGenres['TOTAL GROSS'] = TopGenres['TOTAL GROSS'].str.replace(',', '')\n",
        "TopGenres['TOTAL GROSS'] = TopGenres['TOTAL GROSS'].str.replace('$', '')\n",
        "\n",
        "TopGenres['TOTAL GROSS'] = TopGenres['TOTAL GROSS'].astype(str).astype(int)"
      ],
      "metadata": {
        "id": "SzHpt_WCi3Hh"
      },
      "execution_count": null,
      "outputs": []
    },
    {
      "cell_type": "code",
      "source": [
        "ax = sns.catplot(y=\"TOTAL GROSS\", x=\"GENRES\", kind=\"bar\", data=TopGenres, height=6, aspect=3)\n",
        "plt.ylabel(\"TOTAL GROSS\")\n",
        "plt.title(\"Popular Genres\")"
      ],
      "metadata": {
        "id": "9hSSQ0eKi3KR",
        "colab": {
          "base_uri": "https://localhost:8080/",
          "height": 463
        },
        "outputId": "27263535-9a3e-49f9-857c-de761cf317ac"
      },
      "execution_count": null,
      "outputs": [
        {
          "output_type": "execute_result",
          "data": {
            "text/plain": [
              "Text(0.5, 1.0, 'Popular Genres')"
            ]
          },
          "metadata": {},
          "execution_count": 18
        },
        {
          "output_type": "display_data",
          "data": {
            "image/png": "[encoded data removed]",
            "text/plain": [
              "<Figure size 1296x432 with 1 Axes>"
            ]
          },
          "metadata": {
            "needs_background": "light"
          }
        }
      ]
    }
  ]
}