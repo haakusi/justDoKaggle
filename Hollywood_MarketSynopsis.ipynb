{
  "nbformat": 4,
  "nbformat_minor": 0,
  "metadata": {
    "colab": {
      "name": "Hollywood MarketSynopsis.ipynb",
      "private_outputs": true,
      "provenance": [],
      "collapsed_sections": [],
      "authorship_tag": "ABX9TyMF4FAkS7HjkAW6Nx6k6h6d",
      "include_colab_link": true
    },
    "kernelspec": {
      "name": "python3",
      "display_name": "Python 3"
    },
    "language_info": {
      "name": "python"
    }
  },
  "cells": [
    {
      "cell_type": "markdown",
      "metadata": {
        "id": "view-in-github",
        "colab_type": "text"
      },
      "source": [
        "<a href=\"https://colab.research.google.com/github/haakusi/justDoKaggle/blob/main/Hollywood_MarketSynopsis.ipynb\" target=\"_parent\"><img src=\"https://colab.research.google.com/assets/colab-badge.svg\" alt=\"Open In Colab\"/></a>"
      ]
    },
    {
      "cell_type": "markdown",
      "source": [
        "## Hollywood MarketSynopsis-Data Visualization"
      ],
      "metadata": {
        "id": "QdH1QNq0dsDb"
      }
    },
    {
      "cell_type": "markdown",
      "source": [
        "## Import Dependencies"
      ],
      "metadata": {
        "id": "0vcmJZGreEZF"
      }
    },
    {
      "cell_type": "code",
      "execution_count": null,
      "metadata": {
        "id": "78cksaZ7drTu"
      },
      "outputs": [],
      "source": [
        "import numpy as np\n",
        "import pandas as pd\n",
        "import matplotlib.pyplot as plt\n",
        "import seaborn as sns"
      ]
    },
    {
      "cell_type": "markdown",
      "source": [
        "## Reading CSV File"
      ],
      "metadata": {
        "id": "fEhihJLneKqz"
      }
    },
    {
      "cell_type": "code",
      "source": [
        "# 본인 경로에 맞게 이동 필요\n",
        "from google.colab import drive\n",
        "drive.mount('/content/drive')\n",
        "%cd /content/drive/MyDrive/Colab_Notebooks/220120/"
      ],
      "metadata": {
        "id": "9qTRAjcgeCF9"
      },
      "execution_count": null,
      "outputs": []
    },
    {
      "cell_type": "code",
      "source": [
        "AnnualTicketSales= pd.read_csv(\"/content/drive/MyDrive/Colab_Notebooks/220120/AnnualTicketSales.csv\");\n",
        "HighestGrossers = pd.read_csv(\"/content/drive/MyDrive/Colab_Notebooks/220120/HighestGrossers.csv\");\n",
        "PopularCreativeTypes = pd.read_csv(\"/content/drive/MyDrive/Colab_Notebooks/220120/PopularCreativeTypes.csv\");\n",
        "TopDistributors = pd.read_csv(\"/content/drive/MyDrive/Colab_Notebooks/220120/TopDistributors.csv\");\n",
        "TopGenres = pd.read_csv(\"/content/drive/MyDrive/Colab_Notebooks/220120/TopGenres.csv\");\n",
        "TopGrossingRatings = pd.read_csv(\"/content/drive/MyDrive/Colab_Notebooks/220120/TopGrossingRatings.csv\");\n",
        "TopGrossingSources = pd.read_csv(\"/content/drive/MyDrive/Colab_Notebooks/220120/TopGrossingSources.csv\");\n",
        "TopProductionMethods = pd.read_csv(\"/content/drive/MyDrive/Colab_Notebooks/220120/TopProductionMethods.csv\");\n",
        "WideReleasesCount = pd.read_csv(\"/content/drive/MyDrive/Colab_Notebooks/220120/WideReleasesCount.csv\");"
      ],
      "metadata": {
        "id": "SyXCNnUoeJHU"
      },
      "execution_count": null,
      "outputs": []
    },
    {
      "cell_type": "code",
      "source": [
        "AnnualTicketSales.head()"
      ],
      "metadata": {
        "id": "OJsL8QvzeJPa"
      },
      "execution_count": null,
      "outputs": []
    },
    {
      "cell_type": "code",
      "source": [
        "# preprocessing about , $, Drop no consistance column\n",
        "AnnualTicketSales['TICKETS SOLD'] = AnnualTicketSales['TICKETS SOLD'].str.replace(',', '')\n",
        "\n",
        "AnnualTicketSales['TOTAL BOX OFFICE'] = AnnualTicketSales['TOTAL BOX OFFICE'].str.replace(',', '')\n",
        "AnnualTicketSales['TOTAL BOX OFFICE'] = AnnualTicketSales['TOTAL BOX OFFICE'].str.replace('$', '')\n",
        "\n",
        "AnnualTicketSales['TOTAL INFLATION ADJUSTED BOX OFFICE'] = AnnualTicketSales['TOTAL INFLATION ADJUSTED BOX OFFICE'].str.replace(',', '')\n",
        "AnnualTicketSales['TOTAL INFLATION ADJUSTED BOX OFFICE'] = AnnualTicketSales['TOTAL INFLATION ADJUSTED BOX OFFICE'].str.replace('$', '')\n",
        "\n",
        "AnnualTicketSales['AVERAGE TICKET PRICE'] = AnnualTicketSales['AVERAGE TICKET PRICE'].str.replace('$', '')\n",
        "\n",
        "AnnualTicketSales.drop('Unnamed: 5', axis = 1, inplace = True)"
      ],
      "metadata": {
        "id": "sniWXaMueJR6"
      },
      "execution_count": null,
      "outputs": []
    },
    {
      "cell_type": "code",
      "source": [
        "AnnualTicketSales.head()"
      ],
      "metadata": {
        "id": "MTjXgDpWeJUs"
      },
      "execution_count": null,
      "outputs": []
    },
    {
      "cell_type": "code",
      "source": [
        "# why? astype str -> int. no onetime converting int\n",
        "AnnualTicketSales[\"TOTAL BOX OFFICE\"] = AnnualTicketSales[\"TOTAL BOX OFFICE\"].astype(str).astype(int)\n",
        "AnnualTicketSales[\"TICKETS SOLD\"] = AnnualTicketSales[\"TICKETS SOLD\"].astype(int)"
      ],
      "metadata": {
        "id": "AyX53mTreJXS"
      },
      "execution_count": null,
      "outputs": []
    },
    {
      "cell_type": "code",
      "source": [
        "AnnualTicketSales.info()"
      ],
      "metadata": {
        "id": "gA4he_t0iXtl"
      },
      "execution_count": null,
      "outputs": []
    },
    {
      "cell_type": "code",
      "source": [
        "AnnualTicketSales.isnull().sum()"
      ],
      "metadata": {
        "id": "L600SqLOiXwT"
      },
      "execution_count": null,
      "outputs": []
    },
    {
      "cell_type": "code",
      "source": [
        "ax = sns.catplot(y=\"TICKETS SOLD\", x=\"YEAR\", kind=\"bar\", data=AnnualTicketSales, height=6, aspect=3)\n",
        "plt.ylabel(\"TICKETS SOLD in billion\")\n",
        "plt.grid(True)"
      ],
      "metadata": {
        "id": "Ut58WPyliXzG"
      },
      "execution_count": null,
      "outputs": []
    },
    {
      "cell_type": "code",
      "source": [
        "AnnualTicketSales.plot.bar(x='YEAR', y='TOTAL BOX OFFICE')\n",
        "plt.ylabel(\"TICKETS SOLD in billion\")\n",
        "plt.grid(True)"
      ],
      "metadata": {
        "id": "dRKVinl-i3FC"
      },
      "execution_count": null,
      "outputs": []
    },
    {
      "cell_type": "markdown",
      "source": [
        "## Highest Grossers"
      ],
      "metadata": {
        "id": "ZIF6zZ7t_7ni"
      }
    },
    {
      "cell_type": "code",
      "source": [
        "HighestGrossers.head()"
      ],
      "metadata": {
        "id": "3VE4x5uGkAqZ"
      },
      "execution_count": null,
      "outputs": []
    },
    {
      "cell_type": "code",
      "source": [
        "# preprocessing about , $\n",
        "HighestGrossers['TOTAL FOR YEAR'] = HighestGrossers['TOTAL FOR YEAR'].str.replace(',', '')\n",
        "HighestGrossers['TOTAL FOR YEAR'] = HighestGrossers['TOTAL FOR YEAR'].str.replace('$', '')\n",
        "\n",
        "HighestGrossers['TOTAL IN 2019 DOLLARS'] = HighestGrossers['TOTAL IN 2019 DOLLARS'].str.replace(',', '')\n",
        "HighestGrossers['TOTAL IN 2019 DOLLARS'] = HighestGrossers['TOTAL IN 2019 DOLLARS'].str.replace('$', '')\n",
        "\n",
        "HighestGrossers['TICKETS SOLD'] = HighestGrossers['TICKETS SOLD'].str.replace(',', '')\n",
        "\n",
        "HighestGrossers['TOTAL FOR YEAR'] = HighestGrossers['TOTAL FOR YEAR'].astype(str).astype(int)"
      ],
      "metadata": {
        "id": "5OERwhd3kAtB"
      },
      "execution_count": null,
      "outputs": []
    },
    {
      "cell_type": "code",
      "source": [
        "df1 = pd.DataFrame(HighestGrossers, columns = ['MOVIE', 'TOTAL FOR YEAR'])\n",
        "df1.sort_values(by=['TOTAL FOR YEAR'], ascending = False, inplace=True)\n",
        "print(df1)"
      ],
      "metadata": {
        "id": "GTt12njckAvx"
      },
      "execution_count": null,
      "outputs": []
    },
    {
      "cell_type": "markdown",
      "source": [
        "## Top 10 Movies of all Time by Total earnings."
      ],
      "metadata": {
        "id": "i7ytBcpaP4i-"
      }
    },
    {
      "cell_type": "code",
      "source": [
        "plt.pie(df1['TOTAL FOR YEAR'][0:10], labels = df1['MOVIE'][0:10], autopct='%1.1f%%', explode=(0.1,0.05,0.05,0.05,0.05,0.05,0.05,0.05,0.05,0.05), radius=3, shadow=True)\n",
        "plt.show()"
      ],
      "metadata": {
        "id": "81BPT7rUkAyY"
      },
      "execution_count": null,
      "outputs": []
    },
    {
      "cell_type": "markdown",
      "source": [
        "## TopGenres"
      ],
      "metadata": {
        "id": "OJgC0_TJZv2n"
      }
    },
    {
      "cell_type": "code",
      "source": [
        "TopGenres"
      ],
      "metadata": {
        "id": "AgVDGsnJkA1C"
      },
      "execution_count": null,
      "outputs": []
    },
    {
      "cell_type": "code",
      "source": [
        "TopGenres['TOTAL GROSS'] = TopGenres['TOTAL GROSS'].str.replace(',', '')\n",
        "TopGenres['TOTAL GROSS'] = TopGenres['TOTAL GROSS'].str.replace('$', '')\n",
        "\n",
        "TopGenres['TOTAL GROSS'] = TopGenres['TOTAL GROSS'].astype(str).astype(int)"
      ],
      "metadata": {
        "id": "SzHpt_WCi3Hh"
      },
      "execution_count": null,
      "outputs": []
    },
    {
      "cell_type": "code",
      "source": [
        "ax = sns.catplot(y=\"TOTAL GROSS\", x=\"GENRES\", kind=\"bar\", data=TopGenres, height=6, aspect=3)\n",
        "plt.ylabel(\"TOTAL GROSS\")\n",
        "plt.title(\"Popular Genres\")"
      ],
      "metadata": {
        "id": "9hSSQ0eKi3KR"
      },
      "execution_count": null,
      "outputs": []
    }
  ]
}